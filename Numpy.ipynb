{
 "cells": [
  {
   "cell_type": "code",
   "execution_count": 41,
   "id": "da857332",
   "metadata": {},
   "outputs": [
    {
     "name": "stdout",
     "output_type": "stream",
     "text": [
      "1D Array:\n",
      "[0 2 4 6]\n",
      "First element: 0\n",
      "\n",
      "2D Array:\n",
      "[[0 1 2]\n",
      " [3 4 5]]\n",
      "First row: [0 1 2]\n",
      "First element of first row: 0\n",
      "\n",
      "Zeros Array (np.zeros(6)):\n",
      "[0. 0. 0. 0. 0. 0.]\n",
      "\n",
      "Ones Array (np.ones((2, 3))):\n",
      "[[1. 1. 1.]\n",
      " [1. 1. 1.]]\n",
      "\n",
      "Range:\n",
      "Range(5): [0 1 2 3 4]\n",
      "Step by step arange (0 to 7 with step 2): [0 2 4 6]\n",
      "\n",
      "Multidimensional Zeros:\n",
      "[[0. 0. 0. 0. 0.]\n",
      " [0. 0. 0. 0. 0.]]\n",
      "\n",
      "Full Array:\n",
      "Full (3): [5 5 5]\n",
      "Multidimensional Full (2x4): [[3 3 3 3]\n",
      " [3 3 3 3]]\n"
     ]
    }
   ],
   "source": [
    "import numpy as np\n",
    "\n",
    "# 1D Array Oluşturma ve Erişim\n",
    "arr1d = np.array([0, 2, 4, 6])\n",
    "print(\"1D Array:\")\n",
    "print(arr1d)\n",
    "print(\"First element:\", arr1d[0])\n",
    "\n",
    "# 2D Array Oluşturma ve Erişim\n",
    "arr2d = np.array([[0, 1, 2], [3, 4, 5]])\n",
    "print(\"\\n2D Array:\")\n",
    "print(arr2d)\n",
    "print(\"First row:\", arr2d[0])\n",
    "print(\"First element of first row:\", arr2d[0][0])\n",
    "\n",
    "# np.zeros ile Diziler Oluşturma\n",
    "np4 = np.zeros(6)  # 6 veri\n",
    "print(\"\\nZeros Array (np.zeros(6)):\")\n",
    "print(np4)\n",
    "\n",
    "# np.ones ile Birlerden Oluşan Diziler Oluşturma\n",
    "ones_array = np.ones((2, 3))  # 2 satır, 3 sütun\n",
    "print(\"\\nOnes Array (np.ones((2, 3))):\")\n",
    "print(ones_array)\n",
    "\n",
    "# np.arange ile Dizi Oluşturma\n",
    "np2 = np.arange(5)\n",
    "np3 = np.arange(0, 7, 2)\n",
    "print(\"\\nRange:\")\n",
    "print(\"Range(5):\", np2)\n",
    "print(\"Step by step arange (0 to 7 with step 2):\", np3)\n",
    "\n",
    "# np.zeros ile Çok Boyutlu Diziler Oluşturma\n",
    "np5 = np.zeros((2, 5))\n",
    "print(\"\\nMultidimensional Zeros:\")\n",
    "print(np5)\n",
    "\n",
    "# np.full ile Belirli Bir Değerle Dizi Oluşturma\n",
    "np6 = np.full((3), 5)\n",
    "np7 = np.full((2, 4), 3)\n",
    "print(\"\\nFull Array:\")\n",
    "print(\"Full (3):\", np6)\n",
    "print(\"Multidimensional Full (2x4):\", np7)\n"
   ]
  },
  {
   "cell_type": "code",
   "execution_count": 40,
   "id": "c0a03a54",
   "metadata": {},
   "outputs": [
    {
     "name": "stdout",
     "output_type": "stream",
     "text": [
      "\n",
      "Array Operations\n",
      "\n",
      "Sorted 1D array: [0 2 4 6]\n",
      "\n",
      "Sorted 2D array along axis 0:\n",
      "[[0 1 2]\n",
      " [3 4 5]]\n"
     ]
    }
   ],
   "source": [
    "# Array İşlemleri\n",
    "print(\"\\nArray Operations\")\n",
    "print()\n",
    "\n",
    "# Dizileri Sıralama\n",
    "arr1d.sort()\n",
    "print(\"Sorted 1D array:\", arr1d)\n",
    "\n",
    "# Diziyi Eksen Bazında Sıralama\n",
    "arr2d.sort(axis=0)\n",
    "print(\"\\nSorted 2D array along axis 0:\")\n",
    "print(arr2d)"
   ]
  },
  {
   "cell_type": "code",
   "execution_count": 24,
   "id": "6059a35b",
   "metadata": {},
   "outputs": [
    {
     "name": "stdout",
     "output_type": "stream",
     "text": [
      "Dimension of arr1d: 1\n",
      "Dimension of arr2d: 2\n",
      "Length of array a: 4\n",
      "\n",
      "Shape of arr1d: (4,)\n",
      "Shape of arr2d: (3, 3)\n",
      "\n",
      "Size of arr1d: 4\n",
      "Size of arr2d: 9\n",
      "\n",
      "Data type of arr1d: int32\n",
      "Data type of arr2d: int32\n",
      "Name of data type of array arr1d: int32\n",
      "\n",
      "First element of arr1d: 0\n",
      "Last element of arr2d: 9\n",
      "Array b converted to float type:\n",
      " [0. 2. 4. 6.]\n"
     ]
    }
   ],
   "source": [
    "#DATA\n",
    "\n",
    "\n",
    "print(\"Dimension of arr1d:\", arr1d.ndim)  # 1 boyutlu dizi\n",
    "print(\"Dimension of arr2d:\", arr2d.ndim)  # 2 boyutlu dizi\n",
    "\n",
    "\n",
    "print(\"Length of array a:\", len(arr1d))\n",
    "\n",
    "\n",
    "print(\"\\nShape of arr1d:\", arr1d.shape)  # (5,) - 5 elemanlı tek boyutlu dizi\n",
    "print(\"Shape of arr2d:\", arr2d.shape)  # (3, 3) - 3x3'lük iki boyutlu dizi\n",
    "\n",
    "print(\"\\nSize of arr1d:\", arr1d.size)  # 5\n",
    "print(\"Size of arr2d:\", arr2d.size)  # 9\n",
    "\n",
    "# Dizinin Veri Tipi\n",
    "print(\"\\nData type of arr1d:\", arr1d.dtype)  # int64\n",
    "print(\"Data type of arr2d:\", arr2d.dtype)  # int64\n",
    "print(\"Name of data type of array arr1d:\", arr1d.dtype.name)\n",
    "\n",
    "\n",
    "# Dizinin Elemanlarına Erişme\n",
    "print(\"\\nFirst element of arr1d:\", arr1d[0])  # İlk eleman\n",
    "print(\"Last element of arr2d:\", arr2d[-1, -1])  # Son eleman\n",
    "\n",
    "# Dizinin Veri Tipini Değiştirme\n",
    "b_int = arr1d.astype(float)\n",
    "print(\"Array b converted to float type:\\n\", b_int)"
   ]
  },
  {
   "cell_type": "code",
   "execution_count": 32,
   "id": "386c6687",
   "metadata": {},
   "outputs": [
    {
     "name": "stdout",
     "output_type": "stream",
     "text": [
      "[2 3 4 5]\n",
      "[4 5 6 7 8 9]\n",
      "[7 8]\n",
      "[2 3 4 5]\n",
      "[2 5 8]\n",
      "[1 5 9]\n"
     ]
    }
   ],
   "source": [
    "import numpy as np\n",
    "\n",
    "#slicing numpy arrays\n",
    "np1=np.array([1,2,3,4,5,6,7,8,9])\n",
    "\n",
    "#return 2,3,4,5\n",
    "print(np1[1:5])\n",
    "\n",
    "#return from something till the end of the array?\n",
    "print(np1[3:])\n",
    "\n",
    "#return negative slices( tersten başlıyor)\n",
    "print(np1[-3:-1])\n",
    "\n",
    "#steps\n",
    "print(np1[1:5])\n",
    "print(np1[1:8:3])\n",
    "print(np1[::4])"
   ]
  },
  {
   "cell_type": "code",
   "execution_count": 16,
   "id": "db4245de",
   "metadata": {},
   "outputs": [
    {
     "name": "stdout",
     "output_type": "stream",
     "text": [
      "[9 2 0 1]\n",
      "\n",
      "square root:\n",
      " [3.         1.41421356 0.         1.        ]\n",
      "\n",
      "Cube of arr1:\n",
      " [729   8   0   1]\n",
      "\n",
      "Absolute values\n",
      " [9 2 0 1]\n",
      "Exponents: [8.10308393e+03 7.38905610e+00 1.00000000e+00 2.71828183e+00]\n",
      "max num: 9\n",
      "min num: 0\n",
      "\n",
      "Mean value of arr1: 3.0\n",
      "Standard deviation of arr1: 3.5355339059327378\n",
      "\n",
      "Median value of arr1: 1.5\n"
     ]
    }
   ],
   "source": [
    "import numpy as np\n",
    "\n",
    "np1=np.array([9,2,0,1])\n",
    "print(np1)\n",
    "#square route\n",
    "print('\\nsquare root:\\n',np.sqrt(np1))\n",
    "\n",
    "# Üs Alma\n",
    "power_array = np.power(np1, 3)\n",
    "print(\"\\nCube of arr1:\\n\", power_array)\n",
    "\n",
    "\n",
    "#absolute value\n",
    "print('\\nAbsolute values\\n',np.absolute(np1))\n",
    "\n",
    "#exponents\n",
    "print('Exponents:', np.exp(np1))\n",
    "\n",
    "#min max\n",
    "print('max num:',np.max(np1))\n",
    "print('min num:',np.min(np1))\n",
    "mean_value = np.mean(np1)\n",
    "print(\"\\nMean value of arr1:\", mean_value)\n",
    "\n",
    "# Standart Sapma\n",
    "std_deviation = np.std(np1)\n",
    "print(\"Standard deviation of arr1:\", std_deviation)\n",
    "\n",
    "# Median\n",
    "median_value = np.median(np1)\n",
    "print(\"\\nMedian value of arr1:\", median_value)\n"
   ]
  },
  {
   "cell_type": "code",
   "execution_count": 14,
   "id": "f4cd74f2",
   "metadata": {},
   "outputs": [
    {
     "name": "stdout",
     "output_type": "stream",
     "text": [
      "Broadcasting sum of arr3 and arr4:\n",
      " [[5 6 7]\n",
      " [6 7 8]\n",
      " [7 8 9]]\n",
      "\n",
      "Broadcasting product of arr5 and scalar:\n",
      " [[ 2  4  6]\n",
      " [ 8 10 12]]\n"
     ]
    }
   ],
   "source": [
    "# Broadcasting\n",
    "\n",
    "# Örnek 1: Farklı boyutlardaki dizilerin toplanması\n",
    "arr3 = np.array([1, 2, 3])\n",
    "arr4 = np.array([[4], [5], [6]])\n",
    "broadcast_sum = arr3 + arr4\n",
    "print(\"Broadcasting sum of arr3 and arr4:\\n\", broadcast_sum)\n",
    "\n",
    "# Örnek 2: Dizilerin yayılması\n",
    "arr5 = np.array([[1, 2, 3], [4, 5, 6]])\n",
    "scalar = 2\n",
    "broadcast_product = arr5 * scalar\n",
    "print(\"\\nBroadcasting product of arr5 and scalar:\\n\", broadcast_product)\n"
   ]
  },
  {
   "cell_type": "code",
   "execution_count": 17,
   "id": "8776e6b9",
   "metadata": {},
   "outputs": [
    {
     "name": "stdout",
     "output_type": "stream",
     "text": [
      "Concatenated array along rows:\n",
      " [[ 1  2  3]\n",
      " [ 4  5  6]\n",
      " [ 7  8  9]\n",
      " [10 11 12]]\n",
      "\n",
      "Concatenated array along columns:\n",
      " [[ 1  2  3  7  8  9]\n",
      " [ 4  5  6 10 11 12]]\n",
      "\n",
      "Split array along columns:\n",
      " [array([[1, 2],\n",
      "       [4, 5]]), array([[ 3,  7],\n",
      "       [ 6, 10]]), array([[ 8,  9],\n",
      "       [11, 12]])]\n"
     ]
    }
   ],
   "source": [
    "# Dizileri Birleştirme ve Bölme\n",
    "\n",
    "# Birleştirme (Concatenate)\n",
    "arr3 = np.array([[1, 2, 3], [4, 5, 6]])\n",
    "arr4 = np.array([[7, 8, 9], [10, 11, 12]])\n",
    "\n",
    "concatenated_array = np.concatenate((arr3, arr4), axis=0)  # Satırları birleştirme\n",
    "print(\"Concatenated array along rows:\\n\", concatenated_array)\n",
    "\n",
    "concatenated_array = np.concatenate((arr3, arr4), axis=1)  # Sütunları birleştirme\n",
    "print(\"\\nConcatenated array along columns:\\n\", concatenated_array)\n",
    "\n",
    "# Bölme (Split)\n",
    "split_array = np.array_split(concatenated_array, 3, axis=1)  # Sütunları 3'e bölmek\n",
    "print(\"\\nSplit array along columns:\\n\", split_array)\n"
   ]
  },
  {
   "cell_type": "code",
   "execution_count": 18,
   "id": "d05e9f4e",
   "metadata": {},
   "outputs": [
    {
     "name": "stdout",
     "output_type": "stream",
     "text": [
      "Reshaped array:\n",
      " [[1 2 3]\n",
      " [4 5 6]]\n",
      "\n",
      "Transposed array:\n",
      " [[0 3]\n",
      " [1 4]\n",
      " [2 5]]\n",
      "\n",
      "Flattened array: [0 1 2 3 4 5]\n"
     ]
    }
   ],
   "source": [
    "# İleri Dizi İşlemleri\n",
    "\n",
    "# Diziyi Yeniden Şekillendirme (Reshape)\n",
    "arr5 = np.array([1, 2, 3, 4, 5, 6])\n",
    "reshaped_array = arr5.reshape(2, 3)  # 2x3 boyutlu diziye yeniden şekillendirme\n",
    "print(\"Reshaped array:\\n\", reshaped_array)\n",
    "\n",
    "# Transpoz Alma\n",
    "transposed_array = arr2d.T  # Dizinin transpozunu al\n",
    "print(\"\\nTransposed array:\\n\", transposed_array)\n",
    "\n",
    "# Diziyi Tek Boyuta Sıkıştırma (Flatten)\n",
    "flattened_array = arr2d.flatten()  # Diziyi tek boyuta sıkıştır\n",
    "print(\"\\nFlattened array:\", flattened_array)\n"
   ]
  },
  {
   "cell_type": "code",
   "execution_count": 23,
   "id": "52db14d4",
   "metadata": {},
   "outputs": [
    {
     "name": "stdout",
     "output_type": "stream",
     "text": [
      "Loaded array from file:\n",
      " [[1. 2. 3.]\n",
      " [4. 5. 6.]\n",
      " [7. 8. 9.]]\n"
     ]
    }
   ],
   "source": [
    "import numpy as np\n",
    "\n",
    "\n",
    "arr2d = np.array([[1, 2, 3], [4, 5, 6], [7, 8, 9]])\n",
    "\n",
    "# Dosya İşlemleri\n",
    "\n",
    "# Diziyi Dosyaya Yazma\n",
    "np.savetxt('array_data.txt', arr2d, delimiter=',')  # 2D diziyi belirtilen dosyaya virgülle ayrılmış olarak yazma\n",
    "\n",
    "# Dosyadan Dizi Okuma\n",
    "loaded_array = np.loadtxt('array_data.txt', delimiter=',')  # Belirtilen dosyadan dizi okuma\n",
    "print(\"Loaded array from file:\\n\", loaded_array)\n",
    "\n",
    "# Saving & Loading On Disk\n",
    "\n",
    "# Diziyi diskte kaydetme\n",
    "np.save('my_array.npy', arr2d)\n",
    "\n",
    "# Birden fazla diziyi diskte kaydetme (zipleme)\n",
    "np.savez('array.npz', arr1=arr2d, arr2=arr2d)\n",
    "\n",
    "# Diziyi diskten yükleme\n",
    "loaded_array = np.load('my_array.npy')"
   ]
  },
  {
   "cell_type": "code",
   "execution_count": 20,
   "id": "a50e08c8",
   "metadata": {},
   "outputs": [
    {
     "name": "stdout",
     "output_type": "stream",
     "text": [
      "Matrix product:\n",
      " [[19 22]\n",
      " [43 50]]\n",
      "\n",
      "Inverse of matrix1:\n",
      " [[-2.   1. ]\n",
      " [ 1.5 -0.5]]\n",
      "\n",
      "Determinant of matrix1: -2.0000000000000004\n"
     ]
    }
   ],
   "source": [
    "# Matris İşlemleri\n",
    "\n",
    "# Matris Çarpımı\n",
    "matrix1 = np.array([[1, 2], [3, 4]])\n",
    "matrix2 = np.array([[5, 6], [7, 8]])\n",
    "matrix_product = np.dot(matrix1, matrix2)\n",
    "print(\"Matrix product:\\n\", matrix_product)\n",
    "\n",
    "# Ters Matris Alma\n",
    "matrix_inverse = np.linalg.inv(matrix1)\n",
    "print(\"\\nInverse of matrix1:\\n\", matrix_inverse)\n",
    "\n",
    "# Determinant Bulma\n",
    "matrix_determinant = np.linalg.det(matrix1)\n",
    "print(\"\\nDeterminant of matrix1:\", matrix_determinant)\n"
   ]
  },
  {
   "cell_type": "code",
   "execution_count": 32,
   "id": "5960fbf6",
   "metadata": {},
   "outputs": [
    {
     "name": "stdout",
     "output_type": "stream",
     "text": [
      "np.int64 example: 5\n",
      "np.float32 example: 3.14\n",
      "np.string_ example: b'world'\n",
      "np.unicode_ example: hello\n"
     ]
    }
   ],
   "source": [
    "# DATA TYPES\n",
    "\n",
    "# np.int64 veri tipi oluşturma\n",
    "int_type = np.int64(5)\n",
    "print(\"np.int64 example:\", int_type)\n",
    "\n",
    "# np.float32 veri tipi oluşturma\n",
    "float_type = np.float32(3.14)\n",
    "print(\"np.float32 example:\", float_type)\n",
    "\n",
    "\n",
    "# np.string_ veri tipi oluşturma\n",
    "string_type = np.string_(\"world\")\n",
    "print(\"np.string_ example:\", string_type)\n",
    "\n",
    "# np.unicode_ veri tipi oluşturma\n",
    "unicode_type = np.unicode_(\"hello\")\n",
    "print(\"np.unicode_ example:\", unicode_type)\n"
   ]
  },
  {
   "cell_type": "code",
   "execution_count": 33,
   "id": "bd016dc7",
   "metadata": {},
   "outputs": [
    {
     "name": "stdout",
     "output_type": "stream",
     "text": [
      "Comparison of arrays: [False False  True False False]\n",
      "\n",
      "Greater than comparison: [False False False  True  True]\n",
      "\n",
      "Comparison with scalar: [False False False  True  True]\n",
      "\n",
      "Comparison result using np.where: ['Not Equal' 'Equal' 'Not Equal' 'Not Equal' 'Not Equal']\n"
     ]
    }
   ],
   "source": [
    "import numpy as np\n",
    "\n",
    "# İki Dizi Arasında Karşılaştırma Yapma\n",
    "arr1 = np.array([1, 2, 3, 4, 5])\n",
    "arr2 = np.array([5, 4, 3, 2, 1])\n",
    "comparison = arr1 == arr2\n",
    "print(\"Comparison of arrays:\", comparison)\n",
    "\n",
    "# Karşılaştırma Operatörlerini Kullanarak Karşılaştırma Yapma\n",
    "arr3 = np.array([1, 2, 3, 4, 5])\n",
    "arr4 = np.array([3, 3, 3, 3, 3])\n",
    "greater_than = arr3 > arr4\n",
    "print(\"\\nGreater than comparison:\", greater_than)\n",
    "\n",
    "# Dizi Elemanlarının Karşılaştırılması\n",
    "arr5 = np.array([1, 2, 3, 4, 5])\n",
    "greater_than_3 = arr5 > 3\n",
    "print(\"\\nComparison with scalar:\", greater_than_3)\n",
    "\n",
    "# Karşılaştırma Sonuçlarının Kullanımı\n",
    "arr6 = np.array([1, 2, 3, 4, 5])\n",
    "arr7 = np.array([0, 2, 4, 6, 8])\n",
    "comparison_result = np.where(arr6 == arr7, \"Equal\", \"Not Equal\")\n",
    "print(\"\\nComparison result using np.where:\", comparison_result)\n"
   ]
  },
  {
   "cell_type": "code",
   "execution_count": null,
   "id": "08c64f9e",
   "metadata": {},
   "outputs": [],
   "source": []
  }
 ],
 "metadata": {
  "kernelspec": {
   "display_name": "Python 3 (ipykernel)",
   "language": "python",
   "name": "python3"
  },
  "language_info": {
   "codemirror_mode": {
    "name": "ipython",
    "version": 3
   },
   "file_extension": ".py",
   "mimetype": "text/x-python",
   "name": "python",
   "nbconvert_exporter": "python",
   "pygments_lexer": "ipython3",
   "version": "3.9.13"
  }
 },
 "nbformat": 4,
 "nbformat_minor": 5
}
