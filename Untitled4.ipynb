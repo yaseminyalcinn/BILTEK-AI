{
 "cells": [
  {
   "cell_type": "code",
   "execution_count": 2,
   "id": "c512b56b",
   "metadata": {},
   "outputs": [
    {
     "name": "stdout",
     "output_type": "stream",
     "text": [
      "Listeden Oluşturulan Seri:\n",
      "0    10\n",
      "1    20\n",
      "2    30\n",
      "3    40\n",
      "4    50\n",
      "dtype: int64\n",
      "\n",
      "Sözlükten Oluşturulan Seri:\n",
      "a    100\n",
      "b    200\n",
      "c    300\n",
      "dtype: int64\n"
     ]
    }
   ],
   "source": [
    "import pandas as pd\n",
    "import numpy as np\n",
    "import matplotlib.pyplot as plt\n",
    "# Liste kullanarak Seri oluşturma\n",
    "data = [10, 20, 30, 40, 50]\n",
    "series_from_list = pd.Series(data)\n",
    "print(\"Listeden Oluşturulan Seri:\")\n",
    "print(series_from_list)\n",
    "\n",
    "# Sözlük kullanarak Seri oluşturma\n",
    "data_dict = {'a': 100, 'b': 200, 'c': 300}\n",
    "series_from_dict = pd.Series(data_dict)\n",
    "print(\"\\nSözlükten Oluşturulan Seri:\")\n",
    "print(series_from_dict)\n"
   ]
  },
  {
   "cell_type": "code",
   "execution_count": 3,
   "id": "a0a476b2",
   "metadata": {},
   "outputs": [
    {
     "name": "stdout",
     "output_type": "stream",
     "text": [
      "\n",
      "İlk eleman: 10\n",
      "Indeks 'b' olan eleman: 200\n",
      "\n",
      "İlk üç eleman:\n",
      " 0    10\n",
      "1    20\n",
      "2    30\n",
      "dtype: int64\n",
      "\n",
      "100'den büyük elemanlar:\n",
      " b    200\n",
      "c    300\n",
      "dtype: int64\n",
      "\n",
      "Her elemana 10 eklendi:\n",
      " 0    20\n",
      "1    30\n",
      "2    40\n",
      "3    50\n",
      "4    60\n",
      "dtype: int64\n",
      "\n",
      "İki Seri Toplandı:\n",
      " 0   NaN\n",
      "1   NaN\n",
      "2   NaN\n",
      "3   NaN\n",
      "4   NaN\n",
      "a   NaN\n",
      "b   NaN\n",
      "c   NaN\n",
      "dtype: float64\n",
      "\n",
      "Ortalama: 30.0\n",
      "Toplam: 150\n",
      "En büyük değer: 50\n"
     ]
    }
   ],
   "source": [
    "# Sayısal indeks ile erişim\n",
    "print(\"\\nİlk eleman:\", series_from_list[0])\n",
    "\n",
    "# Etiket indeksi ile erişim\n",
    "print(\"Indeks 'b' olan eleman:\", series_from_dict['b'])\n",
    "\n",
    "# Dilimleme işlemi\n",
    "print(\"\\nİlk üç eleman:\\n\", series_from_list[:3])\n",
    "\n",
    "# Koşullu filtreleme\n",
    "print(\"\\n100'den büyük elemanlar:\\n\", series_from_dict[series_from_dict > 100])\n",
    "\n",
    "# Seriye sabit bir sayı eklemek\n",
    "new_series = series_from_list + 10\n",
    "print(\"\\nHer elemana 10 eklendi:\\n\", new_series)\n",
    "\n",
    "# İki seriyi toplama\n",
    "combined_series = series_from_list + series_from_dict\n",
    "print(\"\\nİki Seri Toplandı:\\n\", combined_series)\n",
    "\n",
    "# Temel istatistikler\n",
    "print(\"\\nOrtalama:\", series_from_list.mean())\n",
    "print(\"Toplam:\", series_from_list.sum())\n",
    "print(\"En büyük değer:\", series_from_list.max())\n"
   ]
  },
  {
   "cell_type": "code",
   "execution_count": 4,
   "id": "99e48881",
   "metadata": {},
   "outputs": [
    {
     "name": "stdout",
     "output_type": "stream",
     "text": [
      "Listeden Oluşturulan DataFrame:\n",
      "       Ad  Puan\n",
      "0   Ahmet    50\n",
      "1  Mehmet    60\n",
      "2    Ayşe    70\n",
      "\n",
      "Sözlükten Oluşturulan DataFrame:\n",
      "       Ad  Puan\n",
      "0   Ahmet    50\n",
      "1  Mehmet    60\n",
      "2    Ayşe    70\n"
     ]
    }
   ],
   "source": [
    "# Listelerden DataFrame oluşturma\n",
    "data = [\n",
    "    ['Ahmet', 50],\n",
    "    ['Mehmet', 60],\n",
    "    ['Ayşe', 70]\n",
    "]\n",
    "df = pd.DataFrame(data, columns=['Ad', 'Puan'])\n",
    "print(\"Listeden Oluşturulan DataFrame:\")\n",
    "print(df)\n",
    "\n",
    "# Sözlüklerden DataFrame oluşturma\n",
    "data_dict = {\n",
    "    'Ad': ['Ahmet', 'Mehmet', 'Ayşe'],\n",
    "    'Puan': [50, 60, 70]\n",
    "}\n",
    "df_dict = pd.DataFrame(data_dict)\n",
    "print(\"\\nSözlükten Oluşturulan DataFrame:\")\n",
    "print(df_dict)"
   ]
  },
  {
   "cell_type": "code",
   "execution_count": 12,
   "id": "1494d392",
   "metadata": {},
   "outputs": [
    {
     "name": "stdout",
     "output_type": "stream",
     "text": [
      "CSV'den Okunan Veri:\n",
      "      x     y   sum\n",
      "0   1.0   1.0   2.0\n",
      "1   4.0   4.0   8.0\n",
      "2   6.0   6.0  12.0\n",
      "3  10.0  10.0  20.0\n",
      "4  30.0  30.0  60.0\n",
      "\n",
      "Excel'den Okunan Veri:\n",
      "   Unnamed: 0   a   b   c   d message\n",
      "0           0   1   2   3   4   hello\n",
      "1           1   5   6   7   8     how\n",
      "2           2   9  10  11  12     are\n",
      "3           3  10  12  15  14     you\n",
      "    var     val\n",
      "21    x  1000.0\n",
      "37    y   700.0\n",
      "43    y  3456.0\n",
      "59  sum   900.0\n",
      "63  sum   756.5\n",
      "65  sum  4456.0\n"
     ]
    }
   ],
   "source": [
    "# CSV dosyasından veri okuma\n",
    "df_csv = pd.read_csv('add.csv')\n",
    "print(\"CSV'den Okunan Veri:\")\n",
    "print(df_csv.head())\n",
    "\n",
    "# Excel dosyasından veri okuma\n",
    "df_excel = pd.read_excel('example.xlsx')\n",
    "print(\"\\nExcel'den Okunan Veri:\")\n",
    "print(df_excel.head())\n",
    "\n",
    "df = (pd.melt(df_csv)\n",
    "    .rename(columns={'variable': 'var', 'value': 'val'})\n",
    "    .query('val >= 500')\n",
    ")\n",
    "\n",
    "print(df)"
   ]
  },
  {
   "cell_type": "code",
   "execution_count": 7,
   "id": "ae2b6103",
   "metadata": {},
   "outputs": [
    {
     "name": "stdout",
     "output_type": "stream",
     "text": [
      "CSV DataFrame'in İlk Beş Satırı:\n",
      "      x     y   sum\n",
      "0   1.0   1.0   2.0\n",
      "1   4.0   4.0   8.0\n",
      "2   6.0   6.0  12.0\n",
      "3  10.0  10.0  20.0\n",
      "4  30.0  30.0  60.0\n",
      "\n",
      "Excel DataFrame'in İlk Beş Satırı:\n",
      "   Unnamed: 0   a   b   c   d message\n",
      "0           0   1   2   3   4   hello\n",
      "1           1   5   6   7   8     how\n",
      "2           2   9  10  11  12     are\n",
      "3           3  10  12  15  14     you\n",
      "\n",
      "CSV DataFrame Boyutları: (22, 3)\n",
      "Excel DataFrame Boyutları: (4, 6)\n",
      "\n",
      "CSV DataFrame Sütun İsimleri: Index(['x', 'y', 'sum'], dtype='object')\n",
      "Excel DataFrame Sütun İsimleri: Index(['Unnamed: 0', 'a', 'b', 'c', 'd', 'message'], dtype='object')\n"
     ]
    }
   ],
   "source": [
    "# DataFrame'in ilk beş satırını gösterme\n",
    "print(\"CSV DataFrame'in İlk Beş Satırı:\")\n",
    "print(df_csv.head())\n",
    "\n",
    "print(\"\\nExcel DataFrame'in İlk Beş Satırı:\")\n",
    "print(df_excel.head())\n",
    "\n",
    "# DataFrame boyutları\n",
    "print(\"\\nCSV DataFrame Boyutları:\", df_csv.shape)\n",
    "print(\"Excel DataFrame Boyutları:\", df_excel.shape)\n",
    "\n",
    "# DataFrame sütun isimleri\n",
    "print(\"\\nCSV DataFrame Sütun İsimleri:\", df_csv.columns)\n",
    "print(\"Excel DataFrame Sütun İsimleri:\", df_excel.columns)\n"
   ]
  },
  {
   "cell_type": "code",
   "execution_count": 8,
   "id": "370cd5ed",
   "metadata": {},
   "outputs": [
    {
     "name": "stdout",
     "output_type": "stream",
     "text": [
      "\n",
      "'x' Sütunu:\n",
      "0        1.0\n",
      "1        4.0\n",
      "2        6.0\n",
      "3       10.0\n",
      "4       30.0\n",
      "5       23.0\n",
      "6       55.0\n",
      "7      100.0\n",
      "8       23.0\n",
      "9       56.0\n",
      "10      13.0\n",
      "11     300.0\n",
      "12      12.5\n",
      "13      23.6\n",
      "14      67.8\n",
      "15     200.0\n",
      "16     203.6\n",
      "17     400.0\n",
      "18      34.6\n",
      "19     400.5\n",
      "20      45.7\n",
      "21    1000.0\n",
      "Name: x, dtype: float64\n",
      "\n",
      "'x' Sütununun İki Katı:\n",
      "0        2.0\n",
      "1        8.0\n",
      "2       12.0\n",
      "3       20.0\n",
      "4       60.0\n",
      "5       46.0\n",
      "6      110.0\n",
      "7      200.0\n",
      "8       46.0\n",
      "9      112.0\n",
      "10      26.0\n",
      "11     600.0\n",
      "12      25.0\n",
      "13      47.2\n",
      "14     135.6\n",
      "15     400.0\n",
      "16     407.2\n",
      "17     800.0\n",
      "18      69.2\n",
      "19     801.0\n",
      "20      91.4\n",
      "21    2000.0\n",
      "Name: double_x, dtype: float64\n",
      "\n",
      "Excel DataFrame'in İkinci Satırı:\n",
      "Unnamed: 0      1\n",
      "a               5\n",
      "b               6\n",
      "c               7\n",
      "d               8\n",
      "message       how\n",
      "Name: 1, dtype: object\n",
      "\n",
      "'sum' Değeri 100'den Büyük Olan Kayıtlar:\n",
      "         x       y     sum  double_x\n",
      "6     55.0    80.0   135.0     110.0\n",
      "7    100.0    22.0   122.0     200.0\n",
      "9     56.0    78.0   134.0     112.0\n",
      "11   300.0    34.0   334.0     600.0\n",
      "13    23.6    89.3   112.9      47.2\n",
      "14    67.8    87.9   155.7     135.6\n",
      "15   200.0   700.0   900.0     400.0\n",
      "16   203.6    67.9   271.5     407.2\n",
      "17   400.0    45.7   445.7     800.0\n",
      "19   400.5   356.0   756.5     801.0\n",
      "20    45.7   123.7   169.4      91.4\n",
      "21  1000.0  3456.0  4456.0    2000.0\n"
     ]
    }
   ],
   "source": [
    "# Belirli bir sütuna erişim\n",
    "print(\"\\n'x' Sütunu:\")\n",
    "print(df_csv['x'])\n",
    "\n",
    "# Yeni bir sütun ekleme\n",
    "df_csv['double_x'] = df_csv['x'] * 2\n",
    "print(\"\\n'x' Sütununun İki Katı:\")\n",
    "print(df_csv['double_x'])\n",
    "\n",
    "# Belirli bir satıra erişim\n",
    "print(\"\\nExcel DataFrame'in İkinci Satırı:\")\n",
    "print(df_excel.loc[1])\n",
    "\n",
    "# Koşullu seçim\n",
    "print(\"\\n'sum' Değeri 100'den Büyük Olan Kayıtlar:\")\n",
    "print(df_csv[df_csv['sum'] > 100])\n"
   ]
  },
  {
   "cell_type": "code",
   "execution_count": 13,
   "id": "ab64758a",
   "metadata": {},
   "outputs": [
    {
     "name": "stdout",
     "output_type": "stream",
     "text": [
      "\n",
      "Mesaja Göre Gruplanmış Veri:\n",
      "message\n",
      "are      1\n",
      "hello    1\n",
      "how      1\n",
      "you      1\n",
      "dtype: int64\n",
      "\n",
      "Mesaja Göre 'a' Sütununun Ortalaması:\n",
      "message\n",
      "are       9.0\n",
      "hello     1.0\n",
      "how       5.0\n",
      "you      10.0\n",
      "Name: a, dtype: float64\n",
      "\n",
      "Melt işlemi sonucu:\n",
      "     variable value\n",
      "0  Unnamed: 0     0\n",
      "1  Unnamed: 0     1\n",
      "2  Unnamed: 0     2\n",
      "3  Unnamed: 0     3\n",
      "4           a     1\n",
      "\n",
      "Pivot işlemi sonucu:\n",
      "variable Unnamed: 0    a    b    c    d message\n",
      "0                 0  NaN  NaN  NaN  NaN     NaN\n",
      "1                 1  NaN  NaN  NaN  NaN     NaN\n",
      "2                 2  NaN  NaN  NaN  NaN     NaN\n",
      "3                 3  NaN  NaN  NaN  NaN     NaN\n",
      "4               NaN    1  NaN  NaN  NaN     NaN\n",
      "\n",
      "Birleştirilmiş DataFrame:\n",
      "         x       y     sum  Unnamed: 0     a     b     c     d message\n",
      "0      1.0     1.0     2.0         NaN   NaN   NaN   NaN   NaN     NaN\n",
      "1      4.0     4.0     8.0         NaN   NaN   NaN   NaN   NaN     NaN\n",
      "2      6.0     6.0    12.0         NaN   NaN   NaN   NaN   NaN     NaN\n",
      "3     10.0    10.0    20.0         NaN   NaN   NaN   NaN   NaN     NaN\n",
      "4     30.0    30.0    60.0         NaN   NaN   NaN   NaN   NaN     NaN\n",
      "5     23.0    43.0    66.0         NaN   NaN   NaN   NaN   NaN     NaN\n",
      "6     55.0    80.0   135.0         NaN   NaN   NaN   NaN   NaN     NaN\n",
      "7    100.0    22.0   122.0         NaN   NaN   NaN   NaN   NaN     NaN\n",
      "8     23.0    45.0    68.0         NaN   NaN   NaN   NaN   NaN     NaN\n",
      "9     56.0    78.0   134.0         NaN   NaN   NaN   NaN   NaN     NaN\n",
      "10    13.0    78.0    91.0         NaN   NaN   NaN   NaN   NaN     NaN\n",
      "11   300.0    34.0   334.0         NaN   NaN   NaN   NaN   NaN     NaN\n",
      "12    12.5    56.7    69.2         NaN   NaN   NaN   NaN   NaN     NaN\n",
      "13    23.6    89.3   112.9         NaN   NaN   NaN   NaN   NaN     NaN\n",
      "14    67.8    87.9   155.7         NaN   NaN   NaN   NaN   NaN     NaN\n",
      "15   200.0   700.0   900.0         NaN   NaN   NaN   NaN   NaN     NaN\n",
      "16   203.6    67.9   271.5         NaN   NaN   NaN   NaN   NaN     NaN\n",
      "17   400.0    45.7   445.7         NaN   NaN   NaN   NaN   NaN     NaN\n",
      "18    34.6    56.9    91.5         NaN   NaN   NaN   NaN   NaN     NaN\n",
      "19   400.5   356.0   756.5         NaN   NaN   NaN   NaN   NaN     NaN\n",
      "20    45.7   123.7   169.4         NaN   NaN   NaN   NaN   NaN     NaN\n",
      "21  1000.0  3456.0  4456.0         NaN   NaN   NaN   NaN   NaN     NaN\n",
      "22     0.0     NaN     NaN         0.0   1.0   2.0   3.0   4.0   hello\n",
      "23     1.0     NaN     NaN         1.0   5.0   6.0   7.0   8.0     how\n",
      "24     2.0     NaN     NaN         2.0   9.0  10.0  11.0  12.0     are\n",
      "25     3.0     NaN     NaN         3.0  10.0  12.0  15.0  14.0     you\n"
     ]
    }
   ],
   "source": [
    "# 'message' sütununa göre gruplama\n",
    "grouped = df_excel.groupby('message')\n",
    "print(\"\\nMesaja Göre Gruplanmış Veri:\")\n",
    "print(grouped.size())\n",
    "\n",
    "# Gruplara göre 'a' sütununun ortalamasını hesaplama\n",
    "print(\"\\nMesaja Göre 'a' Sütununun Ortalaması:\")\n",
    "print(grouped['a'].mean())\n",
    "\n",
    "# pd.melt(df) örneği\n",
    "df_melted = pd.melt(df_excel)\n",
    "print(\"\\nMelt işlemi sonucu:\")\n",
    "print(df_melted.head())\n",
    "\n",
    "# df.pivot(columns='var', values='val') örneği\n",
    "df_pivoted = df_melted.pivot(columns='variable', values='value')\n",
    "print(\"\\nPivot işlemi sonucu:\")\n",
    "print(df_pivoted.head())\n",
    "\n",
    "# Sütunları birleştirerek yeni bir DataFrame oluşturma\n",
    "# Önce her iki DataFrame'i aynı sütun sayısına getirme\n",
    "df_excel['x'] = pd.Series([float(i) for i in range(len(df_excel))])\n",
    "df_combined = pd.concat([df_csv, df_excel], axis=0, ignore_index=True)\n",
    "print(\"\\nBirleştirilmiş DataFrame:\")\n",
    "print(df_combined)\n"
   ]
  },
  {
   "cell_type": "code",
   "execution_count": 11,
   "id": "28c9721a",
   "metadata": {},
   "outputs": [
    {
     "name": "stdout",
     "output_type": "stream",
     "text": [
      "\n",
      "2024 Ocak Ayında Olan Veriler:\n",
      "         x       y     sum  double_x       date\n",
      "0      1.0     1.0     2.0       2.0 2024-01-01\n",
      "1      4.0     4.0     8.0       8.0 2024-01-02\n",
      "2      6.0     6.0    12.0      12.0 2024-01-03\n",
      "3     10.0    10.0    20.0      20.0 2024-01-04\n",
      "4     30.0    30.0    60.0      60.0 2024-01-05\n",
      "5     23.0    43.0    66.0      46.0 2024-01-06\n",
      "6     55.0    80.0   135.0     110.0 2024-01-07\n",
      "7    100.0    22.0   122.0     200.0 2024-01-08\n",
      "8     23.0    45.0    68.0      46.0 2024-01-09\n",
      "9     56.0    78.0   134.0     112.0 2024-01-10\n",
      "10    13.0    78.0    91.0      26.0 2024-01-11\n",
      "11   300.0    34.0   334.0     600.0 2024-01-12\n",
      "12    12.5    56.7    69.2      25.0 2024-01-13\n",
      "13    23.6    89.3   112.9      47.2 2024-01-14\n",
      "14    67.8    87.9   155.7     135.6 2024-01-15\n",
      "15   200.0   700.0   900.0     400.0 2024-01-16\n",
      "16   203.6    67.9   271.5     407.2 2024-01-17\n",
      "17   400.0    45.7   445.7     800.0 2024-01-18\n",
      "18    34.6    56.9    91.5      69.2 2024-01-19\n",
      "19   400.5   356.0   756.5     801.0 2024-01-20\n",
      "20    45.7   123.7   169.4      91.4 2024-01-21\n",
      "21  1000.0  3456.0  4456.0    2000.0 2024-01-22\n"
     ]
    }
   ],
   "source": [
    "# Zaman serisi oluşturma\n",
    "times = pd.date_range(start='2024-01-01', periods=len(df_csv), freq='D')\n",
    "df_csv['date'] = times\n",
    "\n",
    "# Zaman dilimine göre filtreleme\n",
    "print(\"\\n2024 Ocak Ayında Olan Veriler:\")\n",
    "print(df_csv[df_csv['date'].dt.month == 1])\n"
   ]
  },
  {
   "cell_type": "code",
   "execution_count": 13,
   "id": "1bd8e3cf",
   "metadata": {},
   "outputs": [
    {
     "name": "stdout",
     "output_type": "stream",
     "text": [
      "\n",
      "Mesaj Sütunu Kategorileri:\n",
      "Index(['are', 'hello', 'how', 'you'], dtype='object')\n",
      "\n",
      "Eksik Veri Sayısı Her Sütunda:\n",
      "x           0\n",
      "y           0\n",
      "sum         0\n",
      "double_x    0\n",
      "date        0\n",
      "dtype: int64\n"
     ]
    }
   ],
   "source": [
    "# Veriyi kategorik olarak işaretleme\n",
    "df_excel['message'] = df_excel['message'].astype('category')\n",
    "print(\"\\nMesaj Sütunu Kategorileri:\")\n",
    "print(df_excel['message'].cat.categories)\n",
    "\n",
    "# Eksik verileri kontrol etme\n",
    "print(\"\\nEksik Veri Sayısı Her Sütunda:\")\n",
    "print(df_csv.isnull().sum())\n",
    "\n",
    "# Eksik verileri bir değer ile doldurma\n",
    "df_csv.fillna(value=0, inplace=True)\n"
   ]
  },
  {
   "cell_type": "code",
   "execution_count": 19,
   "id": "1cecc2a6",
   "metadata": {},
   "outputs": [
    {
     "name": "stdout",
     "output_type": "stream",
     "text": [
      "\n",
      "Uygulanan Fonksiyon Sonrası DataFrame:\n",
      "       sum status\n",
      "0      2.0    Low\n",
      "1      8.0    Low\n",
      "2     12.0    Low\n",
      "3     20.0    Low\n",
      "4     60.0    Low\n",
      "5     66.0    Low\n",
      "6    135.0   High\n",
      "7    122.0   High\n",
      "8     68.0    Low\n",
      "9    134.0   High\n",
      "10    91.0    Low\n",
      "11   334.0   High\n",
      "12    69.2    Low\n",
      "13   112.9   High\n",
      "14   155.7   High\n",
      "15   900.0   High\n",
      "16   271.5   High\n",
      "17   445.7   High\n",
      "18    91.5    Low\n",
      "19   756.5   High\n",
      "20   169.4   High\n",
      "21  4456.0   High\n",
      "\n",
      "Anahtar 'x' Üzerinden Birleştirilmiş DataFrame:\n",
      "     x    y  sum  double_x       date  log_x status  Unnamed: 0  a  b  c  d  \\\n",
      "0  1.0  1.0  2.0       2.0 2024-01-01    0.0    Low           1  5  6  7  8   \n",
      "\n",
      "  message  \n",
      "0     how  \n"
     ]
    }
   ],
   "source": [
    "# Bir sütuna fonksiyon uygulama\n",
    "df_csv['log_x'] = df_csv['x'].apply(np.log)\n",
    "\n",
    "# Koşullu bir fonksiyon uygulama\n",
    "df_csv['status'] = df_csv['sum'].apply(lambda x: 'High' if x > 100 else 'Low')\n",
    "print(\"\\nUygulanan Fonksiyon Sonrası DataFrame:\")\n",
    "print(df_csv[['sum', 'status']])\n",
    "\n",
    "# İki DataFrame'i belirli bir anahtara göre birleştirme\n",
    "df_merged = pd.merge(df_csv, df_excel, on='x', how='inner')\n",
    "print(\"\\nAnahtar 'x' Üzerinden Birleştirilmiş DataFrame:\")\n",
    "print(df_merged)\n"
   ]
  },
  {
   "cell_type": "code",
   "execution_count": 20,
   "id": "5af758e6",
   "metadata": {},
   "outputs": [
    {
     "name": "stdout",
     "output_type": "stream",
     "text": [
      "Mean of 'sum': 385.47272727272724\n",
      "Median of 'sum': 117.45\n",
      "Mode of 'sum': 2.0\n"
     ]
    }
   ],
   "source": [
    "# Mean, median ve mode hesaplamaları\n",
    "mean_value = df_csv['sum'].mean()\n",
    "median_value = df_csv['sum'].median()\n",
    "mode_value = df_csv['sum'].mode()[0]\n",
    "\n",
    "print(f\"Mean of 'sum': {mean_value}\")\n",
    "print(f\"Median of 'sum': {median_value}\")\n",
    "print(f\"Mode of 'sum': {mode_value}\")\n"
   ]
  },
  {
   "cell_type": "code",
   "execution_count": 21,
   "id": "30085640",
   "metadata": {},
   "outputs": [
    {
     "name": "stdout",
     "output_type": "stream",
     "text": [
      "Updated DataFrame with new column 'x_plus_y':\n",
      "      x     y   sum  double_x       date     log_x status  x_plus_y\n",
      "0   1.0   1.0   2.0       2.0 2024-01-01  0.000000    Low       2.0\n",
      "1   4.0   4.0   8.0       8.0 2024-01-02  1.386294    Low       8.0\n",
      "2   6.0   6.0  12.0      12.0 2024-01-03  1.791759    Low      12.0\n",
      "3  10.0  10.0  20.0      20.0 2024-01-04  2.302585    Low      20.0\n",
      "4  30.0  30.0  60.0      60.0 2024-01-05  3.401197    Low      60.0\n"
     ]
    }
   ],
   "source": [
    "# 'x' ve 'y' sütunlarının toplamını yeni bir sütun olarak ekle\n",
    "df_csv['x_plus_y'] = df_csv['x'] + df_csv['y']\n",
    "print(\"Updated DataFrame with new column 'x_plus_y':\")\n",
    "print(df_csv.head())\n"
   ]
  },
  {
   "cell_type": "code",
   "execution_count": 22,
   "id": "1e2b5ed6",
   "metadata": {},
   "outputs": [
    {
     "name": "stdout",
     "output_type": "stream",
     "text": [
      "Value counts of the 'x' column:\n",
      "23.0      2\n",
      "1.0       1\n",
      "12.5      1\n",
      "45.7      1\n",
      "400.5     1\n",
      "34.6      1\n",
      "400.0     1\n",
      "203.6     1\n",
      "200.0     1\n",
      "67.8      1\n",
      "23.6      1\n",
      "300.0     1\n",
      "4.0       1\n",
      "13.0      1\n",
      "56.0      1\n",
      "100.0     1\n",
      "55.0      1\n",
      "30.0      1\n",
      "10.0      1\n",
      "6.0       1\n",
      "1000.0    1\n",
      "Name: x, dtype: int64\n"
     ]
    }
   ],
   "source": [
    "# 'x' sütunundaki değerlerin frekansını sayma\n",
    "x_counts = df_csv['x'].value_counts()\n",
    "print(\"Value counts of the 'x' column:\")\n",
    "print(x_counts)\n"
   ]
  },
  {
   "cell_type": "code",
   "execution_count": 23,
   "id": "d0e90e15",
   "metadata": {},
   "outputs": [
    {
     "name": "stdout",
     "output_type": "stream",
     "text": [
      "Pivot table of 'sum' over 'x' and 'y':\n",
      "y       1.0     4.0     6.0     10.0    22.0    30.0    34.0    43.0    \\\n",
      "x                                                                        \n",
      "1.0        2.0     NaN     NaN     NaN     NaN     NaN     NaN     NaN   \n",
      "4.0        NaN     8.0     NaN     NaN     NaN     NaN     NaN     NaN   \n",
      "6.0        NaN     NaN    12.0     NaN     NaN     NaN     NaN     NaN   \n",
      "10.0       NaN     NaN     NaN    20.0     NaN     NaN     NaN     NaN   \n",
      "12.5       NaN     NaN     NaN     NaN     NaN     NaN     NaN     NaN   \n",
      "13.0       NaN     NaN     NaN     NaN     NaN     NaN     NaN     NaN   \n",
      "23.0       NaN     NaN     NaN     NaN     NaN     NaN     NaN    66.0   \n",
      "23.6       NaN     NaN     NaN     NaN     NaN     NaN     NaN     NaN   \n",
      "30.0       NaN     NaN     NaN     NaN     NaN    60.0     NaN     NaN   \n",
      "34.6       NaN     NaN     NaN     NaN     NaN     NaN     NaN     NaN   \n",
      "45.7       NaN     NaN     NaN     NaN     NaN     NaN     NaN     NaN   \n",
      "55.0       NaN     NaN     NaN     NaN     NaN     NaN     NaN     NaN   \n",
      "56.0       NaN     NaN     NaN     NaN     NaN     NaN     NaN     NaN   \n",
      "67.8       NaN     NaN     NaN     NaN     NaN     NaN     NaN     NaN   \n",
      "100.0      NaN     NaN     NaN     NaN   122.0     NaN     NaN     NaN   \n",
      "200.0      NaN     NaN     NaN     NaN     NaN     NaN     NaN     NaN   \n",
      "203.6      NaN     NaN     NaN     NaN     NaN     NaN     NaN     NaN   \n",
      "300.0      NaN     NaN     NaN     NaN     NaN     NaN   334.0     NaN   \n",
      "400.0      NaN     NaN     NaN     NaN     NaN     NaN     NaN     NaN   \n",
      "400.5      NaN     NaN     NaN     NaN     NaN     NaN     NaN     NaN   \n",
      "1000.0     NaN     NaN     NaN     NaN     NaN     NaN     NaN     NaN   \n",
      "\n",
      "y       45.0    45.7    ...  56.9    67.9    78.0    80.0    87.9    89.3    \\\n",
      "x                       ...                                                   \n",
      "1.0        NaN     NaN  ...     NaN     NaN     NaN     NaN     NaN     NaN   \n",
      "4.0        NaN     NaN  ...     NaN     NaN     NaN     NaN     NaN     NaN   \n",
      "6.0        NaN     NaN  ...     NaN     NaN     NaN     NaN     NaN     NaN   \n",
      "10.0       NaN     NaN  ...     NaN     NaN     NaN     NaN     NaN     NaN   \n",
      "12.5       NaN     NaN  ...     NaN     NaN     NaN     NaN     NaN     NaN   \n",
      "13.0       NaN     NaN  ...     NaN     NaN    91.0     NaN     NaN     NaN   \n",
      "23.0      68.0     NaN  ...     NaN     NaN     NaN     NaN     NaN     NaN   \n",
      "23.6       NaN     NaN  ...     NaN     NaN     NaN     NaN     NaN   112.9   \n",
      "30.0       NaN     NaN  ...     NaN     NaN     NaN     NaN     NaN     NaN   \n",
      "34.6       NaN     NaN  ...    91.5     NaN     NaN     NaN     NaN     NaN   \n",
      "45.7       NaN     NaN  ...     NaN     NaN     NaN     NaN     NaN     NaN   \n",
      "55.0       NaN     NaN  ...     NaN     NaN     NaN   135.0     NaN     NaN   \n",
      "56.0       NaN     NaN  ...     NaN     NaN   134.0     NaN     NaN     NaN   \n",
      "67.8       NaN     NaN  ...     NaN     NaN     NaN     NaN   155.7     NaN   \n",
      "100.0      NaN     NaN  ...     NaN     NaN     NaN     NaN     NaN     NaN   \n",
      "200.0      NaN     NaN  ...     NaN     NaN     NaN     NaN     NaN     NaN   \n",
      "203.6      NaN     NaN  ...     NaN   271.5     NaN     NaN     NaN     NaN   \n",
      "300.0      NaN     NaN  ...     NaN     NaN     NaN     NaN     NaN     NaN   \n",
      "400.0      NaN   445.7  ...     NaN     NaN     NaN     NaN     NaN     NaN   \n",
      "400.5      NaN     NaN  ...     NaN     NaN     NaN     NaN     NaN     NaN   \n",
      "1000.0     NaN     NaN  ...     NaN     NaN     NaN     NaN     NaN     NaN   \n",
      "\n",
      "y       123.7   356.0   700.0   3456.0  \n",
      "x                                       \n",
      "1.0        NaN     NaN     NaN     NaN  \n",
      "4.0        NaN     NaN     NaN     NaN  \n",
      "6.0        NaN     NaN     NaN     NaN  \n",
      "10.0       NaN     NaN     NaN     NaN  \n",
      "12.5       NaN     NaN     NaN     NaN  \n",
      "13.0       NaN     NaN     NaN     NaN  \n",
      "23.0       NaN     NaN     NaN     NaN  \n",
      "23.6       NaN     NaN     NaN     NaN  \n",
      "30.0       NaN     NaN     NaN     NaN  \n",
      "34.6       NaN     NaN     NaN     NaN  \n",
      "45.7     169.4     NaN     NaN     NaN  \n",
      "55.0       NaN     NaN     NaN     NaN  \n",
      "56.0       NaN     NaN     NaN     NaN  \n",
      "67.8       NaN     NaN     NaN     NaN  \n",
      "100.0      NaN     NaN     NaN     NaN  \n",
      "200.0      NaN     NaN   900.0     NaN  \n",
      "203.6      NaN     NaN     NaN     NaN  \n",
      "300.0      NaN     NaN     NaN     NaN  \n",
      "400.0      NaN     NaN     NaN     NaN  \n",
      "400.5      NaN   756.5     NaN     NaN  \n",
      "1000.0     NaN     NaN     NaN  4456.0  \n",
      "\n",
      "[21 rows x 21 columns]\n"
     ]
    }
   ],
   "source": [
    "# Pivot table oluşturma\n",
    "pivot_table = pd.pivot_table(df_csv, values='sum', index='x', columns='y', aggfunc='mean')\n",
    "print(\"Pivot table of 'sum' over 'x' and 'y':\")\n",
    "print(pivot_table)\n"
   ]
  },
  {
   "cell_type": "code",
   "execution_count": 29,
   "id": "aae4a35c",
   "metadata": {},
   "outputs": [
    {
     "data": {
      "image/png": "[encoded data removed]",
      "text/plain": [
       "<Figure size 1000x500 with 1 Axes>"
      ]
     },
     "metadata": {},
     "output_type": "display_data"
    }
   ],
   "source": [
    "# Çizgi grafiği çizme\n",
    "plt.figure(figsize=(10, 5))  # Grafiğin boyutunu belirleme\n",
    "plt.plot(df['x'], df['sum'], marker='o', linestyle='-', color='b')  # 'x' ve 'sum' sütunları kullanılarak çizgi grafiği çizme\n",
    "plt.title('Line Plot of x vs. sum')  # Grafiğe başlık ekleme\n",
    "plt.xlabel('x')  # X ekseni etiketi\n",
    "plt.ylabel('Sum')  # Y ekseni etiketi\n",
    "plt.grid(True)  # Izgara çizgilerini göster\n",
    "plt.show()  # Grafiği göster\n"
   ]
  },
  {
   "cell_type": "code",
   "execution_count": 33,
   "id": "b217e32d",
   "metadata": {},
   "outputs": [
    {
     "data": {
      "image/png": "[encoded data removed]",
      "text/plain": [
       "<Figure size 1000x600 with 1 Axes>"
      ]
     },
     "metadata": {},
     "output_type": "display_data"
    }
   ],
   "source": [
    "# Çubuk grafiği çizme\n",
    "plt.figure(figsize=(10, 6))\n",
    "plt.bar(grouped_data['x'], grouped_data['sum'], color='skyblue', linewidth=2, edgecolor='blue')  # Çubukların kenarları için daha kalın çizgi\n",
    "plt.title('Average Sum for each X')\n",
    "plt.xlabel('X')\n",
    "plt.ylabel('Average Sum')\n",
    "plt.grid(True, linestyle='--', alpha=0.6, linewidth=1.5)  # Izgarayı daha kalın çizgilerle göster\n",
    "plt.show()\n"
   ]
  },
  {
   "cell_type": "code",
   "execution_count": 32,
   "id": "0185c803",
   "metadata": {},
   "outputs": [
    {
     "data": {
      "image/png": "[encoded data removed]",
      "text/plain": [
       "<Figure size 800x600 with 1 Axes>"
      ]
     },
     "metadata": {},
     "output_type": "display_data"
    }
   ],
   "source": [
    "# Kutu grafiği çizme\n",
    "plt.figure(figsize=(8, 6))\n",
    "plt.boxplot(df['sum'], notch=True, patch_artist=True, boxprops=dict(facecolor='lightgreen'))\n",
    "plt.title('Box Plot of Sum')\n",
    "plt.ylabel('Sum')\n",
    "plt.grid(True, linestyle=':', alpha=0.5)  # Izgarayı noktalı çizgilerle göster\n",
    "plt.show()\n"
   ]
  },
  {
   "cell_type": "code",
   "execution_count": null,
   "id": "74815a32",
   "metadata": {},
   "outputs": [],
   "source": []
  }
 ],
 "metadata": {
  "kernelspec": {
   "display_name": "Python 3 (ipykernel)",
   "language": "python",
   "name": "python3"
  },
  "language_info": {
   "codemirror_mode": {
    "name": "ipython",
    "version": 3
   },
   "file_extension": ".py",
   "mimetype": "text/x-python",
   "name": "python",
   "nbconvert_exporter": "python",
   "pygments_lexer": "ipython3",
   "version": "3.9.13"
  }
 },
 "nbformat": 4,
 "nbformat_minor": 5
}
